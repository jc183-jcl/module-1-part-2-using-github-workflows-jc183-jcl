"""
Simple linear regression from a CSV file. Users should provide a .csv file containing the input data.
"""

import pandas as pd
import numpy as np
import matplotlib.pyplot as plt

# --- User inputs ---
csv_path = input("Enter path to CSV file: ")
x_col = input("Enter the X (predictor) column name: ")
y_col = input("Enter the Y (response) column name: ")

# --- Load data ---
df = pd.read_csv(csv_path)
x = df[x_col].values
y = df[y_col].values

# --- Linear regression ---
slope, intercept = np.polyfit(x, y, 1)
y_pred = slope * x + intercept

# --- R-squared ---
ss_res = np.sum((y - y_pred) ** 2)
ss_tot = np.sum((y - np.mean(y)) ** 2)
r_squared = 1 - (ss_res / ss_tot)

# --- Print results ---
print("Linear Regression Results:")
print(f"Slope: {slope:.4f}")
print(f"Intercept: {intercept:.4f}")
print(f"R-squared: {r_squared:.4f}")

# --- Plot ---
plt.scatter(x, y, label="Data")
plt.plot(x, y_pred, color="red", label="Fit line")
plt.xlabel(x_col)
plt.ylabel(y_col)
plt.title(f"{y_col} vs {x_col}")
plt.legend()
plt.show()
