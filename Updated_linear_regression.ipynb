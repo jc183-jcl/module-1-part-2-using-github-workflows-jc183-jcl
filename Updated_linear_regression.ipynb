{
 "cells": [
  {
   "cell_type": "code",
   "execution_count": null,
   "id": "85c57e7d",
   "metadata": {},
   "outputs": [],
   "source": [
    "\"\"\"\n",
    "Simple linear regression from a CSV file. Users need to provide a csv file with the data needed. \n",
    "\"\"\"\n",
    "\n",
    "import pandas as pd\n",
    "import numpy as np\n",
    "import matplotlib.pyplot as plt"
   ]
  },
  {
   "cell_type": "code",
   "execution_count": null,
   "id": "db204333",
   "metadata": {},
   "outputs": [],
   "source": [
    "# --- User inputs ---\n",
    "csv_path = input(\"Enter path to CSV file: \")\n",
    "x_col = input(\"Enter the X (predictor) column name: \")\n",
    "y_col = input(\"Enter the Y (response) column name: \")\n",
    "\n",
    "# --- Load data ---\n",
    "df = pd.read_csv(csv_path)\n",
    "x = df[x_col].values\n",
    "y = df[y_col].values\n",
    "\n",
    "# --- Linear regression ---\n",
    "slope, intercept = np.polyfit(x, y, 1)\n",
    "y_pred = slope * x + intercept\n",
    "\n",
    "# --- R-squared ---\n",
    "ss_res = np.sum((y - y_pred) ** 2)\n",
    "ss_tot = np.sum((y - np.mean(y)) ** 2)\n",
    "r_squared = 1 - (ss_res / ss_tot)\n",
    "\n",
    "# --- Print results ---\n",
    "print(\"Inputs:\")\n",
    "print(f\"CSV file: {csv_path}\")\n",
    "print(f\"X column: {x_col}\")\n",
    "print(f\"Y column: {y_col}\\n\")\n",
    "\n",
    "print(\"Linear Regression Results:\")\n",
    "print(f\"Slope: {slope:.4f}\")\n",
    "print(f\"Intercept: {intercept:.4f}\")\n",
    "print(f\"R-squared: {r_squared:.4f}\")\n",
    "\n",
    "# --- Plot ---\n",
    "plt.scatter(x, y, label=\"Data\")\n",
    "plt.plot(x, y_pred, color=\"red\", label=\"Fit line\")\n",
    "plt.xlabel(x_col)\n",
    "plt.ylabel(y_col)\n",
    "plt.title(f\"{y_col} vs {x_col}\")\n",
    "plt.legend()\n",
    "plt.show()\n"
   ]
  }
 ],
 "metadata": {
  "language_info": {
   "name": "python"
  }
 },
 "nbformat": 4,
 "nbformat_minor": 5
}
