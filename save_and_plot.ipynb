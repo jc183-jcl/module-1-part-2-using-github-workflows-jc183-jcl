{
 "cells": [
  {
   "cell_type": "code",
   "execution_count": null,
   "id": "d1f2eaf6",
   "metadata": {},
   "outputs": [],
   "source": [
    "#Saving Results in a text file \n",
    "with open(\"regression_results.txt\", \"w\") as f:\n",
    "    f.write(f\"Slope: {slope:.4f}\\n\")\n",
    "    f.write(f\"Intercept: {intercept:.4f}\\n\")\n",
    "    f.write(f\"R-squared: {r_squared:.4f}\\n\")\n"
   ]
  },
  {
   "cell_type": "code",
   "execution_count": null,
   "id": "5a83edf2",
   "metadata": {},
   "outputs": [],
   "source": [
    "#Save plot as a figure \n",
    "plt.savefig(\"regression_plot.png\", dpi=300)\n"
   ]
  }
 ],
 "metadata": {
  "language_info": {
   "name": "python"
  }
 },
 "nbformat": 4,
 "nbformat_minor": 5
}
