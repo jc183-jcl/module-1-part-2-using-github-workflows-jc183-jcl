{
 "cells": [
  {
   "cell_type": "code",
   "execution_count": null,
   "id": "3cff3ced",
   "metadata": {},
   "outputs": [],
   "source": [
    "\"\"\"\n",
    "Predict new values using the regression equation\n",
    "and plot them alongside the regression line.\n",
    "\"\"\"\n",
    "\n",
    "# --- User input for new values ---\n",
    "new_x_values = input(\"Enter new X values separated by commas: \")\n",
    "new_x = [float(val.strip()) for val in new_x_values.split(\",\")]\n",
    "\n",
    "# --- Predict using regression equation ---\n",
    "new_y = [slope * val + intercept for val in new_x]\n",
    "\n",
    "# --- Print predictions ---\n",
    "print(\"\\nPredictions:\")\n",
    "for x_val, y_val in zip(new_x, new_y):\n",
    "    print(f\"X = {x_val:.2f} -> Predicted Y = {y_val:.2f}\")\n",
    "\n",
    "# --- Plot with predictions highlighted ---\n",
    "fig, ax = plt.subplots()\n",
    "ax.scatter(x, y, label=\"Data\")\n",
    "ax.plot(x, y_pred, color=\"red\", label=\"Fit line\")\n",
    "ax.scatter(new_x, new_y, color=\"green\", s=100, marker=\"x\",\n",
    "           label=\"Predictions\")\n",
    "\n",
    "ax.set_xlabel(x_col)\n",
    "ax.set_ylabel(y_col)\n",
    "ax.set_title(\"Regression with Predictions\")\n",
    "ax.legend()\n",
    "plt.show()\n"
   ]
  }
 ],
 "metadata": {
  "language_info": {
   "name": "python"
  }
 },
 "nbformat": 4,
 "nbformat_minor": 5
}
